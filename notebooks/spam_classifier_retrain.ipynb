{
 "cells": [
  {
   "cell_type": "markdown",
   "metadata": {},
   "source": [
    "<h1>SMS Spam Classifier</h1>\n",
    "<br />\n",
    "This notebook shows how to implement a basic spam classifier for SMS messages using Apache MXNet as deep learning framework.\n",
    "The idea is to use the SMS spam collection dataset available at <a href=\"https://archive.ics.uci.edu/ml/datasets/sms+spam+collection\">https://archive.ics.uci.edu/ml/datasets/sms+spam+collection</a> to train and deploy a neural network model by leveraging on the built-in open-source container for Apache MXNet available in Amazon SageMaker."
   ]
  },
  {
   "cell_type": "markdown",
   "metadata": {},
   "source": [
    "Let's get started by setting some configuration variables and getting the Amazon SageMaker session and the current execution role, using the Amazon SageMaker high-level SDK for Python."
   ]
  },
  {
   "cell_type": "code",
   "execution_count": 1,
   "metadata": {},
   "outputs": [
    {
     "name": "stdout",
     "output_type": "stream",
     "text": [
      "arn:aws:iam::458129807189:role/service-role/AmazonSageMaker-ExecutionRole-20220413T101121\n"
     ]
    }
   ],
   "source": [
    "from sagemaker import get_execution_role\n",
    "\n",
    "bucket_name = 'hlin-model'\n",
    "\n",
    "role = get_execution_role()\n",
    "bucket_key_prefix = 'sms-spam-classifier'\n",
    "vocabulary_length = 9013\n",
    "\n",
    "print(role)"
   ]
  },
  {
   "cell_type": "markdown",
   "metadata": {},
   "source": [
    "<h2>Training the model with MXNet</h2>"
   ]
  },
  {
   "cell_type": "markdown",
   "metadata": {},
   "source": [
    "We are now ready to run the training using the MXNet estimator object of the SageMaker Python SDK."
   ]
  },
  {
   "cell_type": "code",
   "execution_count": 2,
   "metadata": {},
   "outputs": [
    {
     "name": "stdout",
     "output_type": "stream",
     "text": [
      "2022-04-18 15:25:58 Starting - Starting the training job...\n",
      "2022-04-18 15:26:27 Starting - Preparing the instances for trainingProfilerReport-1650295558: InProgress\n",
      ".........\n",
      "2022-04-18 15:27:50 Downloading - Downloading input data...\n",
      "2022-04-18 15:28:26 Training - Training image download completed. Training in progress..\u001b[34m2022-04-18 15:28:27,789 INFO - root - running container entrypoint\u001b[0m\n",
      "\u001b[34m2022-04-18 15:28:27,789 INFO - root - starting train task\u001b[0m\n",
      "\u001b[34m2022-04-18 15:28:27,794 INFO - container_support.training - Training starting\u001b[0m\n",
      "\u001b[34m2022-04-18 15:28:28,904 WARNING - mxnet_container.train - #033[1;33mThis required structure for training scripts will be deprecated with the next major release of MXNet images. The train() function will no longer be required; instead the training script must be able to be run as a standalone script. For more information, see https://github.com/aws/sagemaker-python-sdk/tree/master/src/sagemaker/mxnet#updating-your-mxnet-training-script.#033[1;0m\u001b[0m\n",
      "\u001b[34m2022-04-18 15:28:28,913 INFO - mxnet_container.train - MXNetTrainingEnvironment: {'sagemaker_region': 'us-east-1', 'resource_config': {'current_instance_type': 'ml.m4.xlarge', 'instance_groups': [{'instance_group_name': 'homogeneousCluster', 'hosts': ['algo-1'], 'instance_type': 'ml.m4.xlarge'}], 'current_group_name': 'homogeneousCluster', 'hosts': ['algo-1'], 'current_host': 'algo-1', 'network_interface_name': 'eth0'}, 'output_dir': '/opt/ml/output', 'available_cpus': 4, 'container_log_level': 20, '_ps_verbose': 0, 'code_dir': '/opt/ml/code', 'available_gpus': 0, 'current_host': 'algo-1', 'input_dir': '/opt/ml/input', 'user_requirements_file': None, 'job_name': 'sms-spam-classifier-mxnet-2022-04-18-15-25-57-981', 'output_data_dir': '/opt/ml/output/data/', 'model_dir': '/opt/ml/model', 'enable_cloudwatch_metrics': False, 'input_config_dir': '/opt/ml/input/config', '_scheduler_host': 'algo-1', '_ps_port': 8000, 'user_script_name': 'spam_classifier.py', 'channel_dirs': {'train': '/opt/ml/input/data/train', 'val': '/opt/ml/input/data/val'}, 'base_dir': '/opt/ml', 'user_script_archive': 's3://hlin-model/sms-spam-classifier/code/sms-spam-classifier-mxnet-2022-04-18-15-25-57-981/source/sourcedir.tar.gz', 'hyperparameters': {'sagemaker_region': 'us-east-1', 'sagemaker_container_log_level': 20, 'epochs': 10, 'sagemaker_job_name': 'sms-spam-classifier-mxnet-2022-04-18-15-25-57-981', 'learning_rate': 0.01, 'batch_size': 100, 'sagemaker_program': 'spam_classifier.py', 'sagemaker_submit_directory': 's3://hlin-model/sms-spam-classifier/code/sms-spam-classifier-mxnet-2022-04-18-15-25-57-981/source/sourcedir.tar.gz'}, 'channels': {'train': {'TrainingInputMode': 'File', 'S3DistributionType': 'FullyReplicated', 'RecordWrapperType': 'None'}, 'val': {'TrainingInputMode': 'File', 'S3DistributionType': 'FullyReplicated', 'RecordWrapperType': 'None'}}, 'hosts': ['algo-1'], '_scheduler_ip': '10.2.135.133'}\u001b[0m\n",
      "\u001b[34mDownloading s3://hlin-model/sms-spam-classifier/code/sms-spam-classifier-mxnet-2022-04-18-15-25-57-981/source/sourcedir.tar.gz to /tmp/script.tar.gz\u001b[0m\n",
      "\u001b[34m2022-04-18 15:28:29,230 INFO - mxnet_container.train - Starting distributed training task\u001b[0m\n",
      "\u001b[34mCollecting pandas\n",
      "  Downloading https://files.pythonhosted.org/packages/74/24/0cdbf8907e1e3bc5a8da03345c23cbed7044330bb8f73bb12e711a640a00/pandas-0.24.2-cp35-cp35m-manylinux1_x86_64.whl (10.0MB)\u001b[0m\n",
      "\u001b[34mCollecting pytz>=2011k (from pandas)\n",
      "  Downloading https://files.pythonhosted.org/packages/60/2e/dec1cc18c51b8df33c7c4d0a321b084cf38e1733b98f9d15018880fb4970/pytz-2022.1-py2.py3-none-any.whl (503kB)\u001b[0m\n",
      "\u001b[34mRequirement already satisfied: python-dateutil>=2.5.0 in /usr/local/lib/python3.5/dist-packages (from pandas) (2.7.4)\u001b[0m\n",
      "\u001b[34mRequirement already satisfied: numpy>=1.12.0 in /usr/local/lib/python3.5/dist-packages (from pandas) (1.14.6)\u001b[0m\n",
      "\u001b[34mRequirement already satisfied: six>=1.5 in /usr/local/lib/python3.5/dist-packages (from python-dateutil>=2.5.0->pandas) (1.11.0)\u001b[0m\n",
      "\u001b[34mInstalling collected packages: pytz, pandas\u001b[0m\n",
      "\u001b[34mSuccessfully installed pandas-0.24.2 pytz-2022.1\u001b[0m\n",
      "\u001b[34mYou are using pip version 18.1, however version 20.3.4 is available.\u001b[0m\n",
      "\u001b[34mYou should consider upgrading via the 'pip install --upgrade pip' command.\u001b[0m\n",
      "\u001b[34m/usr/local/lib/python3.5/dist-packages/mxnet_container/train.py:190: DeprecationWarning: inspect.getargspec() is deprecated, use inspect.signature() instead\n",
      "  train_args = inspect.getargspec(user_module.train)\u001b[0m\n",
      "\u001b[34mTrain data path: /opt/ml/input/data/train\u001b[0m\n",
      "\u001b[34mValidation data path: /opt/ml/input/data/val\u001b[0m\n",
      "\u001b[34m[Epoch 0] Training: accuracy=0.726722\u001b[0m\n",
      "\u001b[34m[Epoch 0] Validation: accuracy=0.783468\u001b[0m\n",
      "\u001b[34m[Epoch 1] Training: accuracy=0.811757\u001b[0m\n",
      "\u001b[34m[Epoch 1] Validation: accuracy=0.831986\u001b[0m\n",
      "\u001b[34m[Epoch 2] Training: accuracy=0.850572\u001b[0m\n",
      "\u001b[34m[Epoch 2] Validation: accuracy=0.837376\u001b[0m\n",
      "\u001b[34m[Epoch 3] Training: accuracy=0.876823\u001b[0m\n",
      "\u001b[34m[Epoch 3] Validation: accuracy=0.866128\u001b[0m\n",
      "\u001b[34m[Epoch 4] Training: accuracy=0.892529\u001b[0m\n",
      "\u001b[34m[Epoch 4] Validation: accuracy=0.871518\u001b[0m\n",
      "\u001b[34m[Epoch 5] Training: accuracy=0.898811\u001b[0m\n",
      "\u001b[34m[Epoch 5] Validation: accuracy=0.883199\u001b[0m\n",
      "\u001b[34m[Epoch 6] Training: accuracy=0.910478\u001b[0m\n",
      "\u001b[34m[Epoch 6] Validation: accuracy=0.890386\u001b[0m\n",
      "\u001b[34m[Epoch 7] Training: accuracy=0.918331\u001b[0m\n",
      "\u001b[34m[Epoch 7] Validation: accuracy=0.903863\u001b[0m\n",
      "\u001b[34m[Epoch 8] Training: accuracy=0.921696\u001b[0m\n",
      "\u001b[34m[Epoch 8] Validation: accuracy=0.902965\u001b[0m\n",
      "\u001b[34m[Epoch 9] Training: accuracy=0.921921\u001b[0m\n",
      "\u001b[34m[Epoch 9] Validation: accuracy=0.911051\u001b[0m\n",
      "\n",
      "2022-04-18 15:29:44 Uploading - Uploading generated training model\n",
      "2022-04-18 15:29:44 Completed - Training job completed\n",
      "Training seconds: 112\n",
      "Billable seconds: 112\n"
     ]
    }
   ],
   "source": [
    "from sagemaker.mxnet import MXNet\n",
    "\n",
    "output_path = 's3://{0}/{1}/output'.format(bucket_name, bucket_key_prefix)\n",
    "code_location = 's3://{0}/{1}/code'.format(bucket_name, bucket_key_prefix)\n",
    "\n",
    "m = MXNet('spam_classifier.py',\n",
    "          role=role,\n",
    "          instance_count=1,\n",
    "          instance_type='ml.m4.xlarge',\n",
    "          output_path=output_path,\n",
    "          base_job_name='sms-spam-classifier-mxnet',\n",
    "          framework_version='1.2.1',\n",
    "          py_version='py3',\n",
    "          code_location = code_location,\n",
    "          hyperparameters={'batch_size': 100,\n",
    "                           'epochs': 10,\n",
    "                           'learning_rate': 0.01})\n",
    "\n",
    "inputs = {'train': 's3://{0}/{1}/train/'.format(bucket_name, bucket_key_prefix),\n",
    " 'val': 's3://{0}/{1}/val/'.format(bucket_name, bucket_key_prefix)}\n",
    "\n",
    "m.fit(inputs)"
   ]
  },
  {
   "cell_type": "markdown",
   "metadata": {},
   "source": [
    "<h2>Deploying the model</h2>\n",
    "\n",
    "Let's deploy the trained model to an existing real-time inference endpoint fully-managed by Amazon SageMaker."
   ]
  },
  {
   "cell_type": "code",
   "execution_count": 3,
   "metadata": {},
   "outputs": [
    {
     "data": {
      "text/plain": [
       "{'EndpointArn': 'arn:aws:sagemaker:us-east-1:458129807189:endpoint/sms-spam-classifier-mxnet-2022-04-13-14-46-36-485',\n",
       " 'ResponseMetadata': {'RequestId': '9f965503-acbd-42b1-b83a-8ef1edf47929',\n",
       "  'HTTPStatusCode': 200,\n",
       "  'HTTPHeaders': {'x-amzn-requestid': '9f965503-acbd-42b1-b83a-8ef1edf47929',\n",
       "   'content-type': 'application/x-amz-json-1.1',\n",
       "   'content-length': '117',\n",
       "   'date': 'Mon, 18 Apr 2022 15:30:32 GMT'},\n",
       "  'RetryAttempts': 0}}"
      ]
     },
     "execution_count": 3,
     "metadata": {},
     "output_type": "execute_result"
    }
   ],
   "source": [
    "import random\n",
    "import boto3\n",
    "\n",
    "model = m.create_model()\n",
    "session = model.sagemaker_session\n",
    "\n",
    "container_def = model.prepare_container_def(instance_type='ml.m5.large')\n",
    "model_name = str(random.random())[2:]\n",
    "session.create_model(model_name, role, container_def)\n",
    "\n",
    "endpoint_name = 'sms-spam-classifier-mxnet-2022-04-13-14-46-36-485'\n",
    "config_name = str(random.random())[2:]\n",
    "session.create_endpoint_config(name=config_name,\n",
    "                               model_name=model_name,\n",
    "                               initial_instance_count=1,\n",
    "                               instance_type='ml.m4.xlarge')\n",
    "client = boto3.client('sagemaker')\n",
    "client.update_endpoint(EndpointName=endpoint_name,\n",
    "                       EndpointConfigName=config_name)"
   ]
  },
  {
   "cell_type": "markdown",
   "metadata": {},
   "source": [
    "<h2>Executing Inferences</h2>\n",
    "\n",
    "Now, we can invoke the Amazon SageMaker real-time endpoint to execute some inferences, by providing SMS messages and getting the predicted label (SPAM = 1, HAM = 0) and the related probability."
   ]
  },
  {
   "cell_type": "code",
   "execution_count": 4,
   "metadata": {},
   "outputs": [
    {
     "name": "stdout",
     "output_type": "stream",
     "text": [
      "{'predicted_probability': [[0.999946117401123]], 'predicted_label': [[1.0]]}\n"
     ]
    }
   ],
   "source": [
    "from sagemaker.mxnet.model import MXNetPredictor\n",
    "from spam_classifier_utilities import one_hot_encode\n",
    "from spam_classifier_utilities import vectorize_sequences\n",
    "\n",
    "mxnet_pred = MXNetPredictor(endpoint_name)\n",
    "\n",
    "test_messages = [\"FreeMsg: Txt: CALL to No: 86888 & claim your reward of 3 hours talk time to use from your phone now! ubscribe6GBP/ mnth inc 3hrs 16 stop?txtStop\"]\n",
    "one_hot_test_messages = one_hot_encode(test_messages, vocabulary_length)\n",
    "encoded_test_messages = vectorize_sequences(one_hot_test_messages, vocabulary_length)\n",
    "\n",
    "result = mxnet_pred.predict(encoded_test_messages)\n",
    "print(result)"
   ]
  },
  {
   "cell_type": "code",
   "execution_count": null,
   "metadata": {},
   "outputs": [],
   "source": []
  }
 ],
 "metadata": {
  "kernelspec": {
   "display_name": "Python 3.8.10 64-bit",
   "language": "python",
   "name": "python3"
  },
  "language_info": {
   "codemirror_mode": {
    "name": "ipython",
    "version": 3
   },
   "file_extension": ".py",
   "mimetype": "text/x-python",
   "name": "python",
   "nbconvert_exporter": "python",
   "pygments_lexer": "ipython3",
   "version": "3.8.10"
  },
  "vscode": {
   "interpreter": {
    "hash": "916dbcbb3f70747c44a77c7bcd40155683ae19c65e1c03b4aa3499c5328201f1"
   }
  }
 },
 "nbformat": 4,
 "nbformat_minor": 2
}
